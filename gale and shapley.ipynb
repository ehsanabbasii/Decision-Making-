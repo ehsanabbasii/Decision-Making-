{
 "cells": [
  {
   "cell_type": "code",
   "execution_count": 3,
   "id": "3705f463",
   "metadata": {},
   "outputs": [],
   "source": [
    "import pandas as pd"
   ]
  },
  {
   "cell_type": "code",
   "execution_count": 38,
   "id": "06ce8490",
   "metadata": {},
   "outputs": [],
   "source": [
    "or_list = [\n",
    "    [4.15,4.75,3.25,7.60,5.8],\n",
    "    [4.15,4.30,3.75,8.20,5.55],\n",
    "    [4.30,3.85,3.50,7.90,5.30] \n",
    "]\n",
    "\n",
    "\n",
    "'''\n",
    "pr_list = [\n",
    "    [2.5 ,2.02,1.75,3.0,2.75],\n",
    "    [2.5,2.0,1.75,3.0,2.75],\n",
    "    [3.0,2.4,2.09,3.59,3.3]  \n",
    "]\n",
    "\n",
    "'''\n",
    "\n",
    "pr_list = [\n",
    "    \n",
    "    [2.5,2.5,3],\n",
    "    [2.02,2.0,2.4],\n",
    "    [1.75,1.75,2.09]\n",
    "    ,[3.0,3.0,3.59],\n",
    "    [2.75,2.75,3.3]\n",
    "    \n",
    "    \n",
    "    \n",
    "    \n",
    "]\n",
    "\n",
    "\n",
    "or_df =pd.DataFrame(or_list)\n",
    "pr_df= pd.DataFrame(pr_list)"
   ]
  },
  {
   "cell_type": "code",
   "execution_count": 39,
   "id": "8eea045a",
   "metadata": {},
   "outputs": [
    {
     "data": {
      "text/html": [
       "<div>\n",
       "<style scoped>\n",
       "    .dataframe tbody tr th:only-of-type {\n",
       "        vertical-align: middle;\n",
       "    }\n",
       "\n",
       "    .dataframe tbody tr th {\n",
       "        vertical-align: top;\n",
       "    }\n",
       "\n",
       "    .dataframe thead th {\n",
       "        text-align: right;\n",
       "    }\n",
       "</style>\n",
       "<table border=\"1\" class=\"dataframe\">\n",
       "  <thead>\n",
       "    <tr style=\"text-align: right;\">\n",
       "      <th></th>\n",
       "      <th>0</th>\n",
       "      <th>1</th>\n",
       "      <th>2</th>\n",
       "      <th>3</th>\n",
       "      <th>4</th>\n",
       "    </tr>\n",
       "  </thead>\n",
       "  <tbody>\n",
       "    <tr>\n",
       "      <th>0</th>\n",
       "      <td>4.15</td>\n",
       "      <td>4.75</td>\n",
       "      <td>3.25</td>\n",
       "      <td>7.6</td>\n",
       "      <td>5.80</td>\n",
       "    </tr>\n",
       "    <tr>\n",
       "      <th>1</th>\n",
       "      <td>4.15</td>\n",
       "      <td>4.30</td>\n",
       "      <td>3.75</td>\n",
       "      <td>8.2</td>\n",
       "      <td>5.55</td>\n",
       "    </tr>\n",
       "    <tr>\n",
       "      <th>2</th>\n",
       "      <td>4.30</td>\n",
       "      <td>3.85</td>\n",
       "      <td>3.50</td>\n",
       "      <td>7.9</td>\n",
       "      <td>5.30</td>\n",
       "    </tr>\n",
       "  </tbody>\n",
       "</table>\n",
       "</div>"
      ],
      "text/plain": [
       "      0     1     2    3     4\n",
       "0  4.15  4.75  3.25  7.6  5.80\n",
       "1  4.15  4.30  3.75  8.2  5.55\n",
       "2  4.30  3.85  3.50  7.9  5.30"
      ]
     },
     "execution_count": 39,
     "metadata": {},
     "output_type": "execute_result"
    }
   ],
   "source": [
    "or_df"
   ]
  },
  {
   "cell_type": "code",
   "execution_count": 41,
   "id": "2eee1a1d",
   "metadata": {},
   "outputs": [
    {
     "data": {
      "text/html": [
       "<div>\n",
       "<style scoped>\n",
       "    .dataframe tbody tr th:only-of-type {\n",
       "        vertical-align: middle;\n",
       "    }\n",
       "\n",
       "    .dataframe tbody tr th {\n",
       "        vertical-align: top;\n",
       "    }\n",
       "\n",
       "    .dataframe thead th {\n",
       "        text-align: right;\n",
       "    }\n",
       "</style>\n",
       "<table border=\"1\" class=\"dataframe\">\n",
       "  <thead>\n",
       "    <tr style=\"text-align: right;\">\n",
       "      <th></th>\n",
       "      <th>0</th>\n",
       "      <th>1</th>\n",
       "      <th>2</th>\n",
       "    </tr>\n",
       "  </thead>\n",
       "  <tbody>\n",
       "    <tr>\n",
       "      <th>0</th>\n",
       "      <td>2.50</td>\n",
       "      <td>2.50</td>\n",
       "      <td>3.00</td>\n",
       "    </tr>\n",
       "    <tr>\n",
       "      <th>1</th>\n",
       "      <td>2.02</td>\n",
       "      <td>2.00</td>\n",
       "      <td>2.40</td>\n",
       "    </tr>\n",
       "    <tr>\n",
       "      <th>2</th>\n",
       "      <td>1.75</td>\n",
       "      <td>1.75</td>\n",
       "      <td>2.09</td>\n",
       "    </tr>\n",
       "    <tr>\n",
       "      <th>3</th>\n",
       "      <td>3.00</td>\n",
       "      <td>3.00</td>\n",
       "      <td>3.59</td>\n",
       "    </tr>\n",
       "    <tr>\n",
       "      <th>4</th>\n",
       "      <td>2.75</td>\n",
       "      <td>2.75</td>\n",
       "      <td>3.30</td>\n",
       "    </tr>\n",
       "  </tbody>\n",
       "</table>\n",
       "</div>"
      ],
      "text/plain": [
       "      0     1     2\n",
       "0  2.50  2.50  3.00\n",
       "1  2.02  2.00  2.40\n",
       "2  1.75  1.75  2.09\n",
       "3  3.00  3.00  3.59\n",
       "4  2.75  2.75  3.30"
      ]
     },
     "execution_count": 41,
     "metadata": {},
     "output_type": "execute_result"
    }
   ],
   "source": [
    "pr_df"
   ]
  },
  {
   "cell_type": "code",
   "execution_count": null,
   "id": "69305fe9",
   "metadata": {},
   "outputs": [],
   "source": [
    "#class Person:\n",
    "    #def __init__(self)"
   ]
  },
  {
   "cell_type": "code",
   "execution_count": 18,
   "id": "6963bd85",
   "metadata": {},
   "outputs": [
    {
     "data": {
      "text/plain": [
       "1"
      ]
     },
     "execution_count": 18,
     "metadata": {},
     "output_type": "execute_result"
    }
   ],
   "source": [
    "def highest_rank(a_list):\n",
    "    return a_list.index(max(a_list))\n",
    "highest_rank([1,2])"
   ]
  },
  {
   "cell_type": "code",
   "execution_count": 51,
   "id": "560f5566",
   "metadata": {},
   "outputs": [
    {
     "data": {
      "text/plain": [
       "(3, 7.9)"
      ]
     },
     "execution_count": 51,
     "metadata": {},
     "output_type": "execute_result"
    }
   ],
   "source": [
    "waiting_list =[0, 1, 3, 4]\n",
    "weight_list =[4.30,3.85,3.50,7.90,5.30] \n",
    "def i_choose_the_best(waiting_list,weight_list):\n",
    "    \n",
    "    if len(waiting_list)==0:\n",
    "        temp_person = None\n",
    "        temp_value = 0    \n",
    "    else :\n",
    "        temp_person=waiting_list[0]\n",
    "        temp_value =weight_list[waiting_list[0]]\n",
    "        for pr in waiting_list:\n",
    "            \n",
    "            if weight_list[pr] > temp_value :\n",
    "                temp_person = pr\n",
    "                temp_value = weight_list[pr]\n",
    "                \n",
    "                    \n",
    "        \n",
    "    return (temp_person , temp_value)    \n",
    "\n",
    "i_choose_the_best(waiting_list,weight_list)        "
   ]
  },
  {
   "cell_type": "code",
   "execution_count": 69,
   "id": "c61e9e8c",
   "metadata": {},
   "outputs": [],
   "source": [
    "free_person = 5\n",
    "\n",
    "\n",
    "pr_index_list = [ 0,1,2,3,4] \n",
    "or_index_list = [ 0,1,2] \n",
    "\n",
    "or0_waitlist=[]\n",
    "or1_waitlist=[]\n",
    "or2_waitlist=[]\n",
    "\n",
    "\n",
    "not_free_persons= []\n",
    "while (free_person >4):\n",
    "    free_person -=1\n",
    "    #for j in range(0,3):\n",
    "        #print(or_list[j][highest_rank(or_list[j])],highest_rank(or_list[j]))\n",
    "    \n",
    "    \n",
    "    \n",
    "    \n",
    "    for i in pr_index_list:\n",
    "      #  print(i,highest_rank(pr_list[j]))\n",
    "        \n",
    "        if highest_rank(pr_list[j]) ==0 :\n",
    "            or0_waitlist.append(i)\n",
    "        if highest_rank(pr_list[j]) ==1 :\n",
    "            or1_waitlist.append(i)    \n",
    "        if highest_rank(pr_list[j]) ==2 :\n",
    "            or2_waitlist.append(i)\n",
    "        \n",
    "    or0_waitlist.append(i_choose_the_best(or0_waitlist,or_list[0]))\n",
    "    or1_waitlist.append(i_choose_the_best(or1_waitlist,or_list[1]))\n",
    "    or2_waitlist.append(i_choose_the_best(or2_waitlist,or_list[2]))\n",
    "        "
   ]
  },
  {
   "cell_type": "code",
   "execution_count": 70,
   "id": "c0ea9cdd",
   "metadata": {},
   "outputs": [
    {
     "name": "stdout",
     "output_type": "stream",
     "text": [
      "[]\n",
      "[]\n",
      "[0, 1, 2, 3, 4]\n"
     ]
    }
   ],
   "source": [
    "print(or0_waitlist)\n",
    "print(or1_waitlist)\n",
    "print(or2_waitlist)"
   ]
  },
  {
   "cell_type": "code",
   "execution_count": 42,
   "id": "4beda658",
   "metadata": {},
   "outputs": [
    {
     "name": "stdout",
     "output_type": "stream",
     "text": [
      "7.6 3\n",
      "8.2 3\n",
      "7.9 3\n"
     ]
    }
   ],
   "source": [
    "for j in range(0,3):\n",
    " #   print(or_list[j])\n",
    "    print(or_list[j][highest_rank(or_list[j])],highest_rank(or_list[j]))\n",
    "        \n",
    "        "
   ]
  },
  {
   "cell_type": "code",
   "execution_count": 66,
   "id": "146eb0f2",
   "metadata": {},
   "outputs": [],
   "source": []
  },
  {
   "cell_type": "code",
   "execution_count": null,
   "id": "4f4a3b74",
   "metadata": {},
   "outputs": [],
   "source": []
  }
 ],
 "metadata": {
  "kernelspec": {
   "display_name": "Python 3 (ipykernel)",
   "language": "python",
   "name": "python3"
  },
  "language_info": {
   "codemirror_mode": {
    "name": "ipython",
    "version": 3
   },
   "file_extension": ".py",
   "mimetype": "text/x-python",
   "name": "python",
   "nbconvert_exporter": "python",
   "pygments_lexer": "ipython3",
   "version": "3.8.5"
  }
 },
 "nbformat": 4,
 "nbformat_minor": 5
}
