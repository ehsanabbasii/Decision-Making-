{
 "cells": [
  {
   "cell_type": "code",
   "execution_count": 2,
   "id": "8399651c",
   "metadata": {},
   "outputs": [],
   "source": [
    "import pandas as pd \n"
   ]
  },
  {
   "cell_type": "code",
   "execution_count": 3,
   "id": "f28c7003",
   "metadata": {},
   "outputs": [],
   "source": [
    "edu_dict= {\"None\":1,\"Diploma\":2,\"BSC\":4,\"MSC\":6,\"PHD\":8}\n",
    "lan_dict= {\"low\":1,\"medium\":2,\"good\":3,\"advanced\":4,\"native\":5}\n",
    "gen_dict={\"low\":1,\"medium\":2,\"good\":4,\"high\":8,\"advanced\":10}\n",
    "exp_dict={\"0-5\":1,\"5-10\":2,\"10-15\":4,\"15-20\":6,\"20 and more\":8}\n",
    "psy_dict = {\"low\":1,\"medium\":2,\"good\":4,\"high\":8,\"excellent\":10}\n",
    "    \n",
    "\n",
    "class Person :\n",
    "\n",
    "    \n",
    "    \n",
    "    def __init__(self ,name ,education , english,general_skill,experince,pshyco_test,person_weight_list):\n",
    "        self.name =name\n",
    "        self.education =education\n",
    "        self.english =english\n",
    "        self.general_skill =general_skill\n",
    "        self.experince =experince\n",
    "        self.pshyco_test =pshyco_test\n",
    "        self.person_weight_list =person_weight_list\n",
    "        \n",
    "        self.edu=edu_dict[education]\n",
    "        self.lan=lan_dict[english]\n",
    "        self.gen=gen_dict[general_skill]\n",
    "        self.exp=exp_dict[experince]\n",
    "        self.psy=psy_dict[pshyco_test]\n",
    "        \n",
    "        "
   ]
  },
  {
   "cell_type": "code",
   "execution_count": 4,
   "id": "e1c177f1",
   "metadata": {},
   "outputs": [],
   "source": [
    "#declaring persons\n",
    "# order is name ,education , english,general_skill,experince,pshyco_test\n",
    "pr0 =Person(\"Paul\" , \"MSC\", \"native\" , \"good\" , \"0-5\" , \"good\",[0.5,0.2,0.2,0.1])\n",
    "pr1 =Person(\"Yahn\" , \"PHD\", \"medium\" , \"medium\" , \"10-15\" , \"low\",[0.4,0.2,0.15,0.25])\n",
    "pr2 =Person(\"Siraj\" , \"BSC\", \"good\" , \"high\" , \"0-5\" , \"medium\",[0.35,0.1,0.25,0.3])\n",
    "pr3 =Person(\"Saeed\" , \"PHD\", \"advanced\" , \"advanced\" , \"15-20\" , \"excellent\",[0.6,0,0.3,0.1])\n",
    "pr4 =Person(\"Dimitry\" , \"MSC\", \"low\" , \"low\" , \"20 and more\" , \"high\",[0.55,0.15,0.15,0.15])\n",
    "\n",
    "\n"
   ]
  },
  {
   "cell_type": "code",
   "execution_count": 5,
   "id": "32b75204",
   "metadata": {},
   "outputs": [],
   "source": [
    "organs_dict = {\n",
    "'wo0' : [0.4,0.1,0.1,0.25,0.15],\n",
    "'wo1' : [0.35,0.05,0.2,0.2,0.2],\n",
    "'wo2' : [0.3,0.15,0.15,0.15,0.25]\n",
    "\n",
    "              }\n",
    "\n",
    "persons_dict = {\n",
    "'wp0'   :      [0.5,0.2,0.2,0.1]     ,\n",
    "'wp1'   :      [0.4,0.2,0.15,0.25],\n",
    "'wp2'   :      [0.35,0.1,0.25,0.3],\n",
    "'wp3'   :      [0.6,0,0.3,0.1],\n",
    "'wp4'    :      [0.55,0.15,0.15,0.15]\n",
    "                }\n"
   ]
  },
  {
   "cell_type": "code",
   "execution_count": 6,
   "id": "3426574d",
   "metadata": {},
   "outputs": [
    {
     "data": {
      "text/html": [
       "<div>\n",
       "<style scoped>\n",
       "    .dataframe tbody tr th:only-of-type {\n",
       "        vertical-align: middle;\n",
       "    }\n",
       "\n",
       "    .dataframe tbody tr th {\n",
       "        vertical-align: top;\n",
       "    }\n",
       "\n",
       "    .dataframe thead th {\n",
       "        text-align: right;\n",
       "    }\n",
       "</style>\n",
       "<table border=\"1\" class=\"dataframe\">\n",
       "  <thead>\n",
       "    <tr style=\"text-align: right;\">\n",
       "      <th></th>\n",
       "      <th>education</th>\n",
       "      <th>english</th>\n",
       "      <th>general_skill</th>\n",
       "      <th>experince</th>\n",
       "      <th>pshyco_test</th>\n",
       "    </tr>\n",
       "  </thead>\n",
       "  <tbody>\n",
       "    <tr>\n",
       "      <th>wo0</th>\n",
       "      <td>0.40</td>\n",
       "      <td>0.10</td>\n",
       "      <td>0.10</td>\n",
       "      <td>0.25</td>\n",
       "      <td>0.15</td>\n",
       "    </tr>\n",
       "    <tr>\n",
       "      <th>wo1</th>\n",
       "      <td>0.35</td>\n",
       "      <td>0.05</td>\n",
       "      <td>0.20</td>\n",
       "      <td>0.20</td>\n",
       "      <td>0.20</td>\n",
       "    </tr>\n",
       "    <tr>\n",
       "      <th>wo2</th>\n",
       "      <td>0.30</td>\n",
       "      <td>0.15</td>\n",
       "      <td>0.15</td>\n",
       "      <td>0.15</td>\n",
       "      <td>0.25</td>\n",
       "    </tr>\n",
       "  </tbody>\n",
       "</table>\n",
       "</div>"
      ],
      "text/plain": [
       "     education  english  general_skill  experince  pshyco_test\n",
       "wo0       0.40     0.10           0.10       0.25         0.15\n",
       "wo1       0.35     0.05           0.20       0.20         0.20\n",
       "wo2       0.30     0.15           0.15       0.15         0.25"
      ]
     },
     "execution_count": 6,
     "metadata": {},
     "output_type": "execute_result"
    }
   ],
   "source": [
    "or_df = pd.DataFrame(organs_dict)\n",
    "or_df =or_df.T\n",
    "or_columns=[\"education\" , \"english\",\"general_skill\",\"experince\",\"pshyco_test\"]\n",
    "or_df.columns=or_columns\n",
    "or_df"
   ]
  },
  {
   "cell_type": "code",
   "execution_count": 7,
   "id": "146c5b9b",
   "metadata": {},
   "outputs": [
    {
     "data": {
      "text/html": [
       "<div>\n",
       "<style scoped>\n",
       "    .dataframe tbody tr th:only-of-type {\n",
       "        vertical-align: middle;\n",
       "    }\n",
       "\n",
       "    .dataframe tbody tr th {\n",
       "        vertical-align: top;\n",
       "    }\n",
       "\n",
       "    .dataframe thead th {\n",
       "        text-align: right;\n",
       "    }\n",
       "</style>\n",
       "<table border=\"1\" class=\"dataframe\">\n",
       "  <thead>\n",
       "    <tr style=\"text-align: right;\">\n",
       "      <th></th>\n",
       "      <th>sallary</th>\n",
       "      <th>flexibility</th>\n",
       "      <th>bonus</th>\n",
       "      <th>remote</th>\n",
       "    </tr>\n",
       "  </thead>\n",
       "  <tbody>\n",
       "    <tr>\n",
       "      <th>wp0</th>\n",
       "      <td>0.50</td>\n",
       "      <td>0.20</td>\n",
       "      <td>0.20</td>\n",
       "      <td>0.10</td>\n",
       "    </tr>\n",
       "    <tr>\n",
       "      <th>wp1</th>\n",
       "      <td>0.40</td>\n",
       "      <td>0.20</td>\n",
       "      <td>0.15</td>\n",
       "      <td>0.25</td>\n",
       "    </tr>\n",
       "    <tr>\n",
       "      <th>wp2</th>\n",
       "      <td>0.35</td>\n",
       "      <td>0.10</td>\n",
       "      <td>0.25</td>\n",
       "      <td>0.30</td>\n",
       "    </tr>\n",
       "    <tr>\n",
       "      <th>wp3</th>\n",
       "      <td>0.60</td>\n",
       "      <td>0.00</td>\n",
       "      <td>0.30</td>\n",
       "      <td>0.10</td>\n",
       "    </tr>\n",
       "    <tr>\n",
       "      <th>wp4</th>\n",
       "      <td>0.55</td>\n",
       "      <td>0.15</td>\n",
       "      <td>0.15</td>\n",
       "      <td>0.15</td>\n",
       "    </tr>\n",
       "  </tbody>\n",
       "</table>\n",
       "</div>"
      ],
      "text/plain": [
       "     sallary  flexibility  bonus  remote\n",
       "wp0     0.50         0.20   0.20    0.10\n",
       "wp1     0.40         0.20   0.15    0.25\n",
       "wp2     0.35         0.10   0.25    0.30\n",
       "wp3     0.60         0.00   0.30    0.10\n",
       "wp4     0.55         0.15   0.15    0.15"
      ]
     },
     "execution_count": 7,
     "metadata": {},
     "output_type": "execute_result"
    }
   ],
   "source": [
    "pr_df = pd.DataFrame(persons_dict)\n",
    "pr_df =pr_df.T\n",
    "pr_columns=[\"sallary\",\"flexibility\",\"bonus\",\"remote\"]\n",
    "pr_df.columns=pr_columns\n",
    "pr_df"
   ]
  },
  {
   "cell_type": "markdown",
   "id": "aac8accf",
   "metadata": {},
   "source": [
    "# Calculating Uij and U'ij"
   ]
  },
  {
   "cell_type": "code",
   "execution_count": 155,
   "id": "26c51071",
   "metadata": {},
   "outputs": [
    {
     "name": "stdout",
     "output_type": "stream",
     "text": [
      "Utility for organ wo0 with Paul is 4.2 \n",
      "Utility for organ wo0 with Yahn is 4.8 \n",
      "Utility for organ wo0 with Siraj is 3.2 \n",
      "Utility for organ wo0 with Saeed is 7.6 \n",
      "Utility for organ wo0 with Dimitry is 5.8 \n",
      "Utility for organ wo1 with Paul is 4.1 \n",
      "Utility for organ wo1 with Yahn is 4.3 \n",
      "Utility for organ wo1 with Siraj is 3.8 \n",
      "Utility for organ wo1 with Saeed is 8.2 \n",
      "Utility for organ wo1 with Dimitry is 5.5 \n",
      "Utility for organ wo2 with Paul is 4.3 \n",
      "Utility for organ wo2 with Yahn is 3.8 \n",
      "Utility for organ wo2 with Siraj is 3.5 \n",
      "Utility for organ wo2 with Saeed is 7.9 \n",
      "Utility for organ wo2 with Dimitry is 5.3 \n"
     ]
    }
   ],
   "source": [
    "weigh_or_list = [\"wo0\",\"wo1\",\"wo2\"]\n",
    "persons_list= [pr0,pr1,pr2,pr3,pr4]\n",
    "\n",
    "utility_list = []\n",
    "utility_dict ={}\n",
    "for i in weigh_or_list:\n",
    "    U_list=[]\n",
    "    for j in persons_list:\n",
    "        \n",
    "        U = organs_dict[i][0] * j.edu +organs_dict[i][1] * j.lan+organs_dict[i][2] * j.gen +organs_dict[i][3] * j.exp+organs_dict[i][4] * j.psy\n",
    "        U_list.append(U)\n",
    "        \n",
    "        print ( \"Utility for organ {:} with {:} is {:0.2} \".format(i,j.name,U))\n",
    "    utility_list.append(U_list)\n",
    "    utility_dict[i] = U_list \n",
    "   "
   ]
  },
  {
   "cell_type": "code",
   "execution_count": 170,
   "id": "8c78a26c",
   "metadata": {},
   "outputs": [
    {
     "data": {
      "text/plain": [
       "3"
      ]
     },
     "execution_count": 170,
     "metadata": {},
     "output_type": "execute_result"
    }
   ],
   "source": [
    "len(utility_list) "
   ]
  },
  {
   "cell_type": "code",
   "execution_count": 10,
   "id": "9d735628",
   "metadata": {},
   "outputs": [
    {
     "data": {
      "text/html": [
       "<div>\n",
       "<style scoped>\n",
       "    .dataframe tbody tr th:only-of-type {\n",
       "        vertical-align: middle;\n",
       "    }\n",
       "\n",
       "    .dataframe tbody tr th {\n",
       "        vertical-align: top;\n",
       "    }\n",
       "\n",
       "    .dataframe thead th {\n",
       "        text-align: right;\n",
       "    }\n",
       "</style>\n",
       "<table border=\"1\" class=\"dataframe\">\n",
       "  <thead>\n",
       "    <tr style=\"text-align: right;\">\n",
       "      <th></th>\n",
       "      <th>wo0</th>\n",
       "      <th>wo1</th>\n",
       "      <th>wo2</th>\n",
       "    </tr>\n",
       "  </thead>\n",
       "  <tbody>\n",
       "    <tr>\n",
       "      <th>0</th>\n",
       "      <td>4.15</td>\n",
       "      <td>4.15</td>\n",
       "      <td>4.30</td>\n",
       "    </tr>\n",
       "    <tr>\n",
       "      <th>1</th>\n",
       "      <td>4.75</td>\n",
       "      <td>4.30</td>\n",
       "      <td>3.85</td>\n",
       "    </tr>\n",
       "    <tr>\n",
       "      <th>2</th>\n",
       "      <td>3.25</td>\n",
       "      <td>3.75</td>\n",
       "      <td>3.50</td>\n",
       "    </tr>\n",
       "    <tr>\n",
       "      <th>3</th>\n",
       "      <td>7.60</td>\n",
       "      <td>8.20</td>\n",
       "      <td>7.90</td>\n",
       "    </tr>\n",
       "    <tr>\n",
       "      <th>4</th>\n",
       "      <td>5.80</td>\n",
       "      <td>5.55</td>\n",
       "      <td>5.30</td>\n",
       "    </tr>\n",
       "  </tbody>\n",
       "</table>\n",
       "</div>"
      ],
      "text/plain": [
       "    wo0   wo1   wo2\n",
       "0  4.15  4.15  4.30\n",
       "1  4.75  4.30  3.85\n",
       "2  3.25  3.75  3.50\n",
       "3  7.60  8.20  7.90\n",
       "4  5.80  5.55  5.30"
      ]
     },
     "execution_count": 10,
     "metadata": {},
     "output_type": "execute_result"
    }
   ],
   "source": [
    "U_df =pd.DataFrame(utility_dict)    \n",
    "#U_df[\"wo0\"][0]\n",
    "U_df"
   ]
  },
  {
   "cell_type": "markdown",
   "id": "463271d5",
   "metadata": {},
   "source": [
    "# Creating Model and Adding Variables\n"
   ]
  },
  {
   "cell_type": "code",
   "execution_count": 49,
   "id": "5289e2d2",
   "metadata": {},
   "outputs": [],
   "source": [
    "from mip import *\n",
    "import random\n",
    "model = Model()"
   ]
  },
  {
   "cell_type": "code",
   "execution_count": 76,
   "id": "5506d80a",
   "metadata": {},
   "outputs": [
    {
     "name": "stdout",
     "output_type": "stream",
     "text": [
      "d00\n",
      "d10\n",
      "d20\n",
      "d01\n",
      "d11\n",
      "d21\n",
      "d02\n",
      "d12\n",
      "d22\n",
      "d03\n",
      "d13\n",
      "d23\n",
      "d04\n",
      "d14\n",
      "d24\n"
     ]
    },
    {
     "data": {
      "text/plain": [
       "[[<mip.entities.Var at 0x205c4fafc70>,\n",
       "  <mip.entities.Var at 0x205c4faf460>,\n",
       "  <mip.entities.Var at 0x205c4faf100>],\n",
       " [<mip.entities.Var at 0x205c4b7c730>,\n",
       "  <mip.entities.Var at 0x205c4b7c7f0>,\n",
       "  <mip.entities.Var at 0x205c4b7c3a0>],\n",
       " [<mip.entities.Var at 0x205c4b7cd00>,\n",
       "  <mip.entities.Var at 0x205c4b7cfd0>,\n",
       "  <mip.entities.Var at 0x205c4face20>],\n",
       " [<mip.entities.Var at 0x205c4b7c5b0>,\n",
       "  <mip.entities.Var at 0x205c4b7ccd0>,\n",
       "  <mip.entities.Var at 0x205c4b7cdf0>],\n",
       " [<mip.entities.Var at 0x205c4b7ce80>,\n",
       "  <mip.entities.Var at 0x205c4b7c640>,\n",
       "  <mip.entities.Var at 0x205c4b7cd60>]]"
      ]
     },
     "execution_count": 76,
     "metadata": {},
     "output_type": "execute_result"
    }
   ],
   "source": [
    "D_list = []\n",
    "# حقوقی که سازمان به فرد به عنوان متغیر \n",
    "# پیشنهاد میده \n",
    "\n",
    "# d23 \n",
    "# ینی حقوقی که سازمان 2 به فرد 3 میده\n",
    "for j in range(0,5):\n",
    "    D_temp=[]\n",
    "    for i in range(0,3):\n",
    "        D_temp.append(model.add_var(name = \"d{:}{:}\".format(i,j),lb=0,ub= random.randint(5,30)) )\n",
    "        print(D_temp[i].name)\n",
    "    D_list.append(D_temp)\n",
    "    \n",
    "D_list      "
   ]
  },
  {
   "cell_type": "code",
   "execution_count": 77,
   "id": "38bb7adf",
   "metadata": {},
   "outputs": [
    {
     "data": {
      "text/plain": [
       "'d10'"
      ]
     },
     "execution_count": 77,
     "metadata": {},
     "output_type": "execute_result"
    }
   ],
   "source": [
    "D_list[0][1].name"
   ]
  },
  {
   "cell_type": "code",
   "execution_count": 140,
   "id": "aadeca28",
   "metadata": {},
   "outputs": [],
   "source": [
    "n_time_step=10\n",
    "CH_list = []\n",
    "for i in range(0,3):\n",
    "    ch_temp=[]\n",
    "    for j in range(0,5):\n",
    "        ch_temp_temp=[]\n",
    "        for k in range(0,n_time_step):\n",
    "            ch_temp_temp.append(model.add_var(name = \"ch{:}{:}{:}\".format(i,j,k) , var_type=BINARY ))\n",
    "    \n",
    "        ch_temp.append(ch_temp_temp)\n",
    "        \n",
    "    CH_list.append(ch_temp)\n",
    "\n",
    "CHP_list = []\n",
    "for i in range(0,3):\n",
    "    chp_temp=[]\n",
    "    for j in range(0,5):\n",
    "        chp_temp_temp=[]\n",
    "        for k in range(0,n_time_step):\n",
    "            chp_temp_temp.append(model.add_var(name = \"chp{:}{:}{:}\".format(i,j,k) , var_type=BINARY))\n",
    "    \n",
    "        chp_temp.append(chp_temp_temp)\n",
    "        \n",
    "    CHP_list.append(chp_temp)    \n",
    "\n",
    "ZITA_list=[] \n",
    "for i in range(0,3):\n",
    "    zita_temp=[]\n",
    "    for j in range(0,5):\n",
    "        zita_temp_temp=[]\n",
    "        for k in range(0,n_time_step):\n",
    "            zita_temp_temp.append(model.add_var(name = \"zita{:}{:}{:}\".format(i,j,k) , var_type=BINARY))\n",
    "    \n",
    "        zita_temp.append(zita_temp_temp)\n",
    "        \n",
    "    ZITA_list.append(zita_temp)  \n",
    "\n",
    "\n",
    "    "
   ]
  },
  {
   "cell_type": "code",
   "execution_count": 141,
   "id": "9bfb57bf",
   "metadata": {},
   "outputs": [
    {
     "data": {
      "text/plain": [
       "<mip.entities.Var at 0x205c4b3ec40>"
      ]
     },
     "execution_count": 141,
     "metadata": {},
     "output_type": "execute_result"
    }
   ],
   "source": [
    "CHP_list[0][1][2]"
   ]
  },
  {
   "cell_type": "code",
   "execution_count": 142,
   "id": "179f79f3",
   "metadata": {},
   "outputs": [
    {
     "data": {
      "text/plain": [
       "0.5"
      ]
     },
     "execution_count": 142,
     "metadata": {},
     "output_type": "execute_result"
    }
   ],
   "source": [
    "person_weight_list =[[0.5,0.2,0.2,0.1]     ,\n",
    "[0.4,0.2,0.15,0.25],\n",
    "[0.35,0.1,0.25,0.3],\n",
    "[0.6,0,0.3,0.1],\n",
    "[0.55,0.15,0.15,0.15]]\n",
    "person_weight_list[0][0]"
   ]
  },
  {
   "cell_type": "markdown",
   "id": "67aa3e50",
   "metadata": {},
   "source": [
    "# Constraints"
   ]
  },
  {
   "cell_type": "code",
   "execution_count": 143,
   "id": "e549d674",
   "metadata": {},
   "outputs": [],
   "source": [
    "M= 1 * 10 **9"
   ]
  },
  {
   "cell_type": "code",
   "execution_count": 169,
   "id": "693bbfbb",
   "metadata": {},
   "outputs": [
    {
     "name": "stdout",
     "output_type": "stream",
     "text": [
      "5\n",
      "+ 0.4d01 \n"
     ]
    }
   ],
   "source": [
    "utilityP_list =[]\n",
    "\n",
    "for i in range(0,3):  \n",
    "    Up_list = []\n",
    "    for j in range(0,5):     \n",
    "        Up = person_weight_list[j][0]*D_list[j][i]\n",
    "     \n",
    "        Up_list.append(Up)\n",
    "        \n",
    "    utilityP_list.append(Up_list)   \n",
    "    \n",
    "print(len(utilityP_list[0])    )\n",
    "print(utilityP_list[0][1])"
   ]
  },
  {
   "cell_type": "code",
   "execution_count": 171,
   "id": "3176841d",
   "metadata": {},
   "outputs": [],
   "source": [
    "\n",
    "\n",
    "for i in range(0,3): \n",
    "    \n",
    "    organs_index=[0,1,2]     \n",
    "    organs_index.pop(i)\n",
    "    \n",
    "    for j in range(0,5):\n",
    "        \n",
    "        persons_index=[0,1,2,3,4]\n",
    "        persons_index.pop(j)     # temp_list for persons\n",
    "       \n",
    "       \n",
    "       \n",
    "        \n",
    "        \n",
    "\n",
    "           \n",
    "        \n",
    "        for t in range(0,n_time_step):\n",
    "            \n",
    "            \n",
    "            # constraints for Zita \n",
    "            model += ZITA_list[i][j][t] <= CH_list[i][j][t]\n",
    "            model += ZITA_list[i][j][t] <= CHP_list[i][j][t]\n",
    "            model += CH_list[i][j][t] + CHP_list[i][j][t] -1 <= ZITA_list[i][j][t]\n",
    "            \n",
    "            \n",
    "            a=xsum(xsum(ZITA_list[i][z][e] for e in range(0,t-1)) for z in persons_index)\n",
    "            b=xsum(xsum(ZITA_list[o][j][e] for e in range(0,t-1)) for o in organs_index)\n",
    "             \n",
    "            model += CH_list[i][j][t] <= (1 - a )\n",
    "            model += CHP_list[i][j][t] <= (1 - b )\n",
    "            \n",
    "            for z in persons_index:\n",
    "                model += (-1)*(1 - CH_list[i][j][t])*M -(1 -a)*M <=utility_list[i][j] -utility_list[i][z]\n",
    "            \n",
    "            for o in organs_index:\n",
    "                model += (-1)*(1 - CHP_list[i][j][t])*M -(1 -b)*M <=utilityP_list[i][j] -utilityP_list[i][o]\n",
    "            \n",
    "            U_total_list=\n",
    "            \n",
    "            \n",
    "            \n",
    "            \n",
    "            \n",
    "    \n",
    "\n",
    " "
   ]
  },
  {
   "cell_type": "code",
   "execution_count": 172,
   "id": "7fab0de8",
   "metadata": {},
   "outputs": [
    {
     "data": {
      "text/html": [
       "<div>\n",
       "<style scoped>\n",
       "    .dataframe tbody tr th:only-of-type {\n",
       "        vertical-align: middle;\n",
       "    }\n",
       "\n",
       "    .dataframe tbody tr th {\n",
       "        vertical-align: top;\n",
       "    }\n",
       "\n",
       "    .dataframe thead th {\n",
       "        text-align: right;\n",
       "    }\n",
       "</style>\n",
       "<table border=\"1\" class=\"dataframe\">\n",
       "  <thead>\n",
       "    <tr style=\"text-align: right;\">\n",
       "      <th></th>\n",
       "      <th>0</th>\n",
       "      <th>1</th>\n",
       "      <th>2</th>\n",
       "      <th>3</th>\n",
       "      <th>4</th>\n",
       "    </tr>\n",
       "  </thead>\n",
       "  <tbody>\n",
       "    <tr>\n",
       "      <th>0</th>\n",
       "      <td>+ 0.5d00</td>\n",
       "      <td>+ 0.4d01</td>\n",
       "      <td>+ 0.35d02</td>\n",
       "      <td>+ 0.6d03</td>\n",
       "      <td>+ 0.55d04</td>\n",
       "    </tr>\n",
       "    <tr>\n",
       "      <th>1</th>\n",
       "      <td>+ 0.5d10</td>\n",
       "      <td>+ 0.4d11</td>\n",
       "      <td>+ 0.35d12</td>\n",
       "      <td>+ 0.6d13</td>\n",
       "      <td>+ 0.55d14</td>\n",
       "    </tr>\n",
       "    <tr>\n",
       "      <th>2</th>\n",
       "      <td>+ 0.5d20</td>\n",
       "      <td>+ 0.4d21</td>\n",
       "      <td>+ 0.35d22</td>\n",
       "      <td>+ 0.6d23</td>\n",
       "      <td>+ 0.55d24</td>\n",
       "    </tr>\n",
       "  </tbody>\n",
       "</table>\n",
       "</div>"
      ],
      "text/plain": [
       "           0          1           2          3           4\n",
       "0  + 0.5d00   + 0.4d01   + 0.35d02   + 0.6d03   + 0.55d04 \n",
       "1  + 0.5d10   + 0.4d11   + 0.35d12   + 0.6d13   + 0.55d14 \n",
       "2  + 0.5d20   + 0.4d21   + 0.35d22   + 0.6d23   + 0.55d24 "
      ]
     },
     "execution_count": 172,
     "metadata": {},
     "output_type": "execute_result"
    }
   ],
   "source": [
    "pd.DataFrame(utilityP_list)"
   ]
  },
  {
   "cell_type": "code",
   "execution_count": 173,
   "id": "538bd01d",
   "metadata": {},
   "outputs": [
    {
     "data": {
      "text/html": [
       "<div>\n",
       "<style scoped>\n",
       "    .dataframe tbody tr th:only-of-type {\n",
       "        vertical-align: middle;\n",
       "    }\n",
       "\n",
       "    .dataframe tbody tr th {\n",
       "        vertical-align: top;\n",
       "    }\n",
       "\n",
       "    .dataframe thead th {\n",
       "        text-align: right;\n",
       "    }\n",
       "</style>\n",
       "<table border=\"1\" class=\"dataframe\">\n",
       "  <thead>\n",
       "    <tr style=\"text-align: right;\">\n",
       "      <th></th>\n",
       "      <th>0</th>\n",
       "      <th>1</th>\n",
       "      <th>2</th>\n",
       "      <th>3</th>\n",
       "      <th>4</th>\n",
       "    </tr>\n",
       "  </thead>\n",
       "  <tbody>\n",
       "    <tr>\n",
       "      <th>0</th>\n",
       "      <td>4.15</td>\n",
       "      <td>4.75</td>\n",
       "      <td>3.25</td>\n",
       "      <td>7.6</td>\n",
       "      <td>5.80</td>\n",
       "    </tr>\n",
       "    <tr>\n",
       "      <th>1</th>\n",
       "      <td>4.15</td>\n",
       "      <td>4.30</td>\n",
       "      <td>3.75</td>\n",
       "      <td>8.2</td>\n",
       "      <td>5.55</td>\n",
       "    </tr>\n",
       "    <tr>\n",
       "      <th>2</th>\n",
       "      <td>4.30</td>\n",
       "      <td>3.85</td>\n",
       "      <td>3.50</td>\n",
       "      <td>7.9</td>\n",
       "      <td>5.30</td>\n",
       "    </tr>\n",
       "  </tbody>\n",
       "</table>\n",
       "</div>"
      ],
      "text/plain": [
       "      0     1     2    3     4\n",
       "0  4.15  4.75  3.25  7.6  5.80\n",
       "1  4.15  4.30  3.75  8.2  5.55\n",
       "2  4.30  3.85  3.50  7.9  5.30"
      ]
     },
     "execution_count": 173,
     "metadata": {},
     "output_type": "execute_result"
    }
   ],
   "source": [
    "pd.DataFrame(utility_list)"
   ]
  },
  {
   "cell_type": "code",
   "execution_count": 145,
   "id": "2273eee0",
   "metadata": {},
   "outputs": [
    {
     "name": "stdout",
     "output_type": "stream",
     "text": [
      "+ 0.5d00 \n",
      "+ 0.5d10 \n",
      "+ 0.5d20 \n",
      "+ 0.4d01 \n",
      "+ 0.4d11 \n",
      "+ 0.4d21 \n",
      "+ 0.35d02 \n",
      "+ 0.35d12 \n",
      "+ 0.35d22 \n",
      "+ 0.6d03 \n",
      "+ 0.6d13 \n",
      "+ 0.6d23 \n",
      "+ 0.55d04 \n",
      "+ 0.55d14 \n",
      "+ 0.55d24 \n"
     ]
    }
   ],
   "source": [
    "# How Utility' is calculated\n",
    "utilityP_list =[]\n",
    "for j in range(0,5):\n",
    "    for i in range(0,3):\n",
    "        \n",
    "        print(person_weight_list[j][0]*D_list[j][i])          "
   ]
  },
  {
   "cell_type": "code",
   "execution_count": 146,
   "id": "93ca232d",
   "metadata": {},
   "outputs": [
    {
     "name": "stdout",
     "output_type": "stream",
     "text": [
      "zita000\n",
      "zita001\n",
      "zita100\n",
      "zita101\n",
      "zita200\n",
      "zita201\n",
      "+ 0.5d20 \n",
      "zita010\n",
      "zita011\n",
      "zita110\n",
      "zita111\n",
      "zita210\n",
      "zita211\n",
      "+ 0.4d21 \n",
      "zita020\n",
      "zita021\n",
      "zita120\n",
      "zita121\n",
      "zita220\n",
      "zita221\n",
      "+ 0.35d22 \n",
      "zita030\n",
      "zita031\n",
      "zita130\n",
      "zita131\n",
      "zita230\n",
      "zita231\n",
      "+ 0.6d23 \n",
      "zita040\n",
      "zita041\n",
      "zita140\n",
      "zita141\n",
      "zita240\n",
      "zita241\n",
      "+ 0.55d24 \n"
     ]
    }
   ],
   "source": [
    "#How Zita is caculated\n",
    "utilityP_list =[]\n",
    "for j in range(0,5):\n",
    "    for i in range(0,3):\n",
    "        for t in range(0,n_time_step-8):\n",
    "            print(ZITA_list[i][j][t])\n",
    "    print(person_weight_list[j][0]*D_list[j][i])      "
   ]
  },
  {
   "cell_type": "code",
   "execution_count": 151,
   "id": "b3aaf23a",
   "metadata": {},
   "outputs": [
    {
     "name": "stdout",
     "output_type": "stream",
     "text": [
      "[[], [], []] 3\n",
      "[[], [], []] 3\n",
      "[['zita000'], ['zita010'], ['zita020']] 3\n",
      "[['zita000', 'zita001'], ['zita010', 'zita011'], ['zita020', 'zita021']] 3\n",
      "[['zita000', 'zita001', 'zita002'], ['zita010', 'zita011', 'zita012'], ['zita020', 'zita021', 'zita022']] 3\n",
      "[['zita000', 'zita001', 'zita002', 'zita003'], ['zita010', 'zita011', 'zita012', 'zita013'], ['zita020', 'zita021', 'zita022', 'zita023']] 3\n",
      "[['zita000', 'zita001', 'zita002', 'zita003', 'zita004'], ['zita010', 'zita011', 'zita012', 'zita013', 'zita014'], ['zita020', 'zita021', 'zita022', 'zita023', 'zita024']] 3\n",
      "[['zita000', 'zita001', 'zita002', 'zita003', 'zita004', 'zita005'], ['zita010', 'zita011', 'zita012', 'zita013', 'zita014', 'zita015'], ['zita020', 'zita021', 'zita022', 'zita023', 'zita024', 'zita025']] 3\n",
      "[['zita000', 'zita001', 'zita002', 'zita003', 'zita004', 'zita005', 'zita006'], ['zita010', 'zita011', 'zita012', 'zita013', 'zita014', 'zita015', 'zita016'], ['zita020', 'zita021', 'zita022', 'zita023', 'zita024', 'zita025', 'zita026']] 3\n",
      "[['zita000', 'zita001', 'zita002', 'zita003', 'zita004', 'zita005', 'zita006', 'zita007'], ['zita010', 'zita011', 'zita012', 'zita013', 'zita014', 'zita015', 'zita016', 'zita017'], ['zita020', 'zita021', 'zita022', 'zita023', 'zita024', 'zita025', 'zita026', 'zita027']] 3\n"
     ]
    }
   ],
   "source": [
    "#How Zita is caculated\n",
    "'''\n",
    "for t in range(0,3):\n",
    "    a=xsum(xsum(ZITA_list[0][z][e] for e in range(0,t-1)) for z in [0,1,2])\n",
    "    print(a) \n",
    "    \n",
    "\n",
    "'''\n",
    "\n",
    "    \n",
    "for t in range(0,10):\n",
    "    a=[[ZITA_list[0][z][e].name for e in range(0,t-1)] for z in [0,1,2]]\n",
    "    print(a,len(a))     "
   ]
  },
  {
   "cell_type": "code",
   "execution_count": 66,
   "id": "b746f40b",
   "metadata": {},
   "outputs": [
    {
     "data": {
      "text/plain": [
       "[<mip.entities.LinExpr at 0x205c4b64980>,\n",
       " <mip.entities.LinExpr at 0x205bf0f5f40>,\n",
       " <mip.entities.LinExpr at 0x205c4b1d980>]"
      ]
     },
     "execution_count": 66,
     "metadata": {},
     "output_type": "execute_result"
    }
   ],
   "source": [
    "Up_list"
   ]
  },
  {
   "cell_type": "code",
   "execution_count": 93,
   "id": "e99d917a",
   "metadata": {},
   "outputs": [
    {
     "data": {
      "text/html": [
       "<div>\n",
       "<style scoped>\n",
       "    .dataframe tbody tr th:only-of-type {\n",
       "        vertical-align: middle;\n",
       "    }\n",
       "\n",
       "    .dataframe tbody tr th {\n",
       "        vertical-align: top;\n",
       "    }\n",
       "\n",
       "    .dataframe thead th {\n",
       "        text-align: right;\n",
       "    }\n",
       "</style>\n",
       "<table border=\"1\" class=\"dataframe\">\n",
       "  <thead>\n",
       "    <tr style=\"text-align: right;\">\n",
       "      <th></th>\n",
       "      <th>0</th>\n",
       "    </tr>\n",
       "  </thead>\n",
       "  <tbody>\n",
       "    <tr>\n",
       "      <th>0</th>\n",
       "      <td>4.30</td>\n",
       "    </tr>\n",
       "    <tr>\n",
       "      <th>1</th>\n",
       "      <td>3.85</td>\n",
       "    </tr>\n",
       "    <tr>\n",
       "      <th>2</th>\n",
       "      <td>3.50</td>\n",
       "    </tr>\n",
       "    <tr>\n",
       "      <th>3</th>\n",
       "      <td>7.90</td>\n",
       "    </tr>\n",
       "    <tr>\n",
       "      <th>4</th>\n",
       "      <td>5.30</td>\n",
       "    </tr>\n",
       "  </tbody>\n",
       "</table>\n",
       "</div>"
      ],
      "text/plain": [
       "      0\n",
       "0  4.30\n",
       "1  3.85\n",
       "2  3.50\n",
       "3  7.90\n",
       "4  5.30"
      ]
     },
     "execution_count": 93,
     "metadata": {},
     "output_type": "execute_result"
    }
   ],
   "source": [
    "pd.DataFrame(U_list)"
   ]
  },
  {
   "cell_type": "code",
   "execution_count": 96,
   "id": "6c7d4a65",
   "metadata": {},
   "outputs": [
    {
     "data": {
      "text/html": [
       "<div>\n",
       "<style scoped>\n",
       "    .dataframe tbody tr th:only-of-type {\n",
       "        vertical-align: middle;\n",
       "    }\n",
       "\n",
       "    .dataframe tbody tr th {\n",
       "        vertical-align: top;\n",
       "    }\n",
       "\n",
       "    .dataframe thead th {\n",
       "        text-align: right;\n",
       "    }\n",
       "</style>\n",
       "<table border=\"1\" class=\"dataframe\">\n",
       "  <thead>\n",
       "    <tr style=\"text-align: right;\">\n",
       "      <th></th>\n",
       "      <th>0</th>\n",
       "      <th>1</th>\n",
       "      <th>2</th>\n",
       "      <th>3</th>\n",
       "      <th>4</th>\n",
       "    </tr>\n",
       "  </thead>\n",
       "  <tbody>\n",
       "    <tr>\n",
       "      <th>0</th>\n",
       "      <td>4.15</td>\n",
       "      <td>4.75</td>\n",
       "      <td>3.25</td>\n",
       "      <td>7.6</td>\n",
       "      <td>5.80</td>\n",
       "    </tr>\n",
       "    <tr>\n",
       "      <th>1</th>\n",
       "      <td>4.15</td>\n",
       "      <td>4.30</td>\n",
       "      <td>3.75</td>\n",
       "      <td>8.2</td>\n",
       "      <td>5.55</td>\n",
       "    </tr>\n",
       "    <tr>\n",
       "      <th>2</th>\n",
       "      <td>4.30</td>\n",
       "      <td>3.85</td>\n",
       "      <td>3.50</td>\n",
       "      <td>7.9</td>\n",
       "      <td>5.30</td>\n",
       "    </tr>\n",
       "  </tbody>\n",
       "</table>\n",
       "</div>"
      ],
      "text/plain": [
       "      0     1     2    3     4\n",
       "0  4.15  4.75  3.25  7.6  5.80\n",
       "1  4.15  4.30  3.75  8.2  5.55\n",
       "2  4.30  3.85  3.50  7.9  5.30"
      ]
     },
     "execution_count": 96,
     "metadata": {},
     "output_type": "execute_result"
    }
   ],
   "source": [
    "pd.DataFrame(utility_list)"
   ]
  },
  {
   "cell_type": "code",
   "execution_count": null,
   "id": "c20a2abb",
   "metadata": {},
   "outputs": [],
   "source": []
  }
 ],
 "metadata": {
  "kernelspec": {
   "display_name": "Python 3 (ipykernel)",
   "language": "python",
   "name": "python3"
  },
  "language_info": {
   "codemirror_mode": {
    "name": "ipython",
    "version": 3
   },
   "file_extension": ".py",
   "mimetype": "text/x-python",
   "name": "python",
   "nbconvert_exporter": "python",
   "pygments_lexer": "ipython3",
   "version": "3.9.12"
  }
 },
 "nbformat": 4,
 "nbformat_minor": 5
}
